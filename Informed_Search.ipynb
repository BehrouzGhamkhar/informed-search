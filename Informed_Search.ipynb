{
 "cells": [
  {
   "cell_type": "markdown",
   "id": "b103c5ea",
   "metadata": {
    "deletable": false,
    "editable": false,
    "nbassignment": {
     "type": "header"
    },
    "nbgrader": {
     "cell_type": "markdown",
     "checksum": "471a197366a5b9930a8bb565122cf09c",
     "grade": false,
     "grade_id": "HeaderA",
     "locked": true,
     "schema_version": 3,
     "solution": false,
     "task": false
    }
   },
   "source": [
    "# Artificial Intelligence for Robotics 04\n",
    "\n",
    "## General Information:\n",
    "Please do not add or delete any cells. Answers belong into the corresponding cells (below the question). If a function is given (either as a signature or a full function), you should not change the name, arguments or return value of the function.\n",
    "\n",
    "If you encounter empty cells underneath the answer that can not be edited, please ignore them, they are for testing purposes.\n",
    "\n",
    "When editing an assignment there can be the case that there are variables in the kernel. To make sure your assignment works, please restart the kernel and run all cells before submitting (e.g. via Kernel -> Restart & Run All).\n",
    "\n",
    "Code cells where you are supposed to give your answer often include the line `raise NotImplementedError`. This makes it easier to automatically grade answers. If you edit the cell please outcomment or delete this line.\n",
    "\n",
    "## Submission:\n",
    "Please submit your notebook via the web interface (in the main view -> Assignments -> Submit). The assignments are **due on Monday at 20:00**.\n",
    "\n",
    "## Group Work:\n",
    "Please enter your UID (your username here) and those of your group partners into the next cell. We apply plagiarism checking, so do not submit others solutions! If an assignment has a copied solution, the task will be graded with 0 points for all people with the same solution.\n",
    "\n",
    "## Questions about the Assignment:\n",
    "If you have questions about the assignment please post them in the LEA forum before the deadline. Don't wait until the last day to post questions!"
   ]
  },
  {
   "cell_type": "markdown",
   "id": "269910cd",
   "metadata": {
    "deletable": false,
    "editable": false,
    "nbassignment": {
     "type": "header"
    },
    "nbgrader": {
     "cell_type": "markdown",
     "checksum": "93d376da99c86b4fabd2542101dc5ec7",
     "grade": false,
     "grade_id": "cell-4a94f4450f12f33c",
     "locked": true,
     "schema_version": 3,
     "solution": false,
     "task": false
    }
   },
   "source": [
    "### Please add the usernames of all your team members in the manner member1, member2 in next cell (example given below)\n",
    "\n",
    "member1 = 'example'\n",
    "\n",
    "member2 = 'example2'\n",
    "\n",
    "#### If you are not working in a group, then please add member2 as none2s"
   ]
  },
  {
   "cell_type": "code",
   "execution_count": null,
   "id": "72243e7a",
   "metadata": {
    "ExecuteTime": {
     "end_time": "2024-04-11T15:24:02.006415Z",
     "start_time": "2024-04-11T15:24:02.002165Z"
    },
    "deletable": false,
    "nbassignment": {
     "type": "group_info"
    },
    "nbgrader": {
     "cell_type": "code",
     "checksum": "2ef735ca9199180a82193d39df17789b",
     "grade": false,
     "grade_id": "cell-a9c2f4587c671f98",
     "locked": false,
     "schema_version": 3,
     "solution": true,
     "task": false
    }
   },
   "outputs": [],
   "source": [
    "# YOUR CODE HERE\n",
    "raise NotImplementedError()"
   ]
  },
  {
   "cell_type": "code",
   "execution_count": null,
   "id": "58d35b9d",
   "metadata": {
    "ExecuteTime": {
     "end_time": "2024-04-11T15:23:55.951443Z",
     "start_time": "2024-04-11T15:23:55.944250Z"
    },
    "deletable": false,
    "editable": false,
    "nbassignment": {
     "type": "header"
    },
    "nbgrader": {
     "cell_type": "code",
     "checksum": "90856a52a0162f78566c398792f29a27",
     "grade": true,
     "grade_id": "cell-e27ced94e387fe18",
     "locked": true,
     "points": 0,
     "schema_version": 3,
     "solution": false,
     "task": false
    }
   },
   "outputs": [],
   "source": [
    "# Execute this cell to make sure you correctly filled in the usernames of the team members\n",
    "\n",
    "def group_name_test():\n",
    "    for member_id in [member1, member2]:\n",
    "        assert isinstance(member_id, str), \"Please give your member id as a string.\"\n",
    "        assert len(member_id) > 0, \"You need to fill in the member id for both members\"\n",
    "        assert member_id.endswith(\"2s\"), \"The member id should end with 2s (Your JupyterHub username)\"\n",
    "\n",
    "group_name_test() \n",
    "print(\"All tests passed!\")"
   ]
  },
  {
   "cell_type": "markdown",
   "id": "72bf27a8",
   "metadata": {
    "deletable": false,
    "editable": false,
    "nbgrader": {
     "cell_type": "markdown",
     "checksum": "032bd9da136e780c7bdbe3a7ac2c9737",
     "grade": false,
     "grade_id": "taskheader_1",
     "locked": true,
     "schema_version": 3,
     "solution": false,
     "task": false
    }
   },
   "source": [
    "# Task 1\n",
    "\n",
    "**[18 Point(s)]**"
   ]
  },
  {
   "cell_type": "markdown",
   "id": "db2cf756",
   "metadata": {
    "deletable": false,
    "editable": false,
    "nbgrader": {
     "cell_type": "markdown",
     "checksum": "b50d04407354a2c11ad554fc64a84873",
     "grade": false,
     "grade_id": "Astar_theory_AAstar_theory_BAstar_theory_CAstar_theory_DAstar_theory_EAstar_theory_F_Header",
     "locked": true,
     "schema_version": 3,
     "solution": false,
     "task": false
    }
   },
   "source": [
    "\n",
    "# A* Theory [20 Points]\n",
    "\n",
    "During the lecture, you have learned about the A* search algorithm and its propoerties. Please answere the following questions short and consice and be as precise as possible.\n"
   ]
  },
  {
   "cell_type": "markdown",
   "id": "4ca28e3f",
   "metadata": {
    "deletable": false,
    "editable": false,
    "nbgrader": {
     "cell_type": "markdown",
     "checksum": "48cd198795a66beef1f4898055bdc8a9",
     "grade": false,
     "grade_id": "taskheader_1_1",
     "locked": true,
     "schema_version": 3,
     "solution": false,
     "task": false
    }
   },
   "source": [
    "## Task 1.1\n",
    "\n",
    "**[2 Point(s)]**"
   ]
  },
  {
   "cell_type": "markdown",
   "id": "2ba2679e",
   "metadata": {
    "deletable": false,
    "editable": false,
    "nbgrader": {
     "cell_type": "markdown",
     "checksum": "5f00609874ce5e2602c44fa97c298aa9",
     "grade": false,
     "grade_id": "Astar_theory_A_Description0",
     "locked": true,
     "schema_version": 3,
     "solution": false,
     "task": false
    }
   },
   "source": [
    "### Completeness [2 Points]\n",
    "\n",
    "How is the *completeness* of an algorithm defined? Is A* complete?"
   ]
  },
  {
   "cell_type": "markdown",
   "id": "75017f23",
   "metadata": {
    "deletable": false,
    "nbgrader": {
     "cell_type": "markdown",
     "checksum": "4d11957ccfd3202e70e69f07f27329ee",
     "grade": true,
     "grade_id": "Astar_theory_A",
     "locked": false,
     "points": 2,
     "schema_version": 3,
     "solution": true,
     "task": false
    }
   },
   "source": [
    "Completeness of algorithm is the ability to find a solution for every valid instance of the problem regardless whether it's the optimal solution or not, within a finite amount of time.\n",
    "\n",
    "A* is a complete algorithm under certain conditions : The graph being search is finite, The hurestic used is admissible."
   ]
  },
  {
   "cell_type": "markdown",
   "id": "93e1d906",
   "metadata": {
    "deletable": false,
    "editable": false,
    "nbgrader": {
     "cell_type": "markdown",
     "checksum": "ee7c3397eaabfa4e923bb5df24f6a5ad",
     "grade": false,
     "grade_id": "taskheader_1_2",
     "locked": true,
     "schema_version": 3,
     "solution": false,
     "task": false
    }
   },
   "source": [
    "## Task 1.2\n",
    "\n",
    "**[2 Point(s)]**"
   ]
  },
  {
   "cell_type": "markdown",
   "id": "1e743707",
   "metadata": {
    "deletable": false,
    "editable": false,
    "nbgrader": {
     "cell_type": "markdown",
     "checksum": "d79eb8818b255e240400290cf5ff357f",
     "grade": false,
     "grade_id": "Astar_theory_B_Description0",
     "locked": true,
     "schema_version": 3,
     "solution": false,
     "task": false
    }
   },
   "source": [
    "### Soundness [2 Points]\n",
    "\n",
    "When is an algorithm be considered *sound*? Is A* sound?"
   ]
  },
  {
   "cell_type": "markdown",
   "id": "1b5fb6f9",
   "metadata": {
    "deletable": false,
    "nbgrader": {
     "cell_type": "markdown",
     "checksum": "0766b458b85ea85599bf2d886c0d3d6c",
     "grade": true,
     "grade_id": "Astar_theory_B",
     "locked": false,
     "points": 2,
     "schema_version": 3,
     "solution": true,
     "task": false
    }
   },
   "source": [
    "An algorithm is considered sound when it always produces the correct result for every valid input. A sound algorithm is the one that guarantees correctness.\n",
    "\n",
    "A* is a sound algorithm if it is implemented correctly, it must satisfy two criterias: admissibility of Heuristic, correctness of implementation."
   ]
  },
  {
   "cell_type": "markdown",
   "id": "c8f96f4b",
   "metadata": {
    "deletable": false,
    "editable": false,
    "nbgrader": {
     "cell_type": "markdown",
     "checksum": "873ea545ac6554d97eb5450d62283af5",
     "grade": false,
     "grade_id": "taskheader_1_3",
     "locked": true,
     "schema_version": 3,
     "solution": false,
     "task": false
    }
   },
   "source": [
    "## Task 1.3\n",
    "\n",
    "**[2 Point(s)]**"
   ]
  },
  {
   "cell_type": "markdown",
   "id": "643ca9d8",
   "metadata": {
    "deletable": false,
    "editable": false,
    "nbgrader": {
     "cell_type": "markdown",
     "checksum": "39789eb36834d846e3a244ea16ee7f62",
     "grade": false,
     "grade_id": "Astar_theory_C_Description0",
     "locked": true,
     "schema_version": 3,
     "solution": false,
     "task": false
    }
   },
   "source": [
    "### Termination [2 Points]\n",
    "\n",
    "When does A* end the search process?"
   ]
  },
  {
   "cell_type": "markdown",
   "id": "db83f759",
   "metadata": {
    "deletable": false,
    "nbgrader": {
     "cell_type": "markdown",
     "checksum": "bc9526cac3d8a8f4b52693242a0658c3",
     "grade": true,
     "grade_id": "Astar_theory_C",
     "locked": false,
     "points": 2,
     "schema_version": 3,
     "solution": true,
     "task": false
    }
   },
   "source": [
    "A* ends the search process either by finding a goal node or exhausting all possible paths to explore without finding a solution."
   ]
  },
  {
   "cell_type": "markdown",
   "id": "8865c538",
   "metadata": {
    "deletable": false,
    "editable": false,
    "nbgrader": {
     "cell_type": "markdown",
     "checksum": "e389341d43e628e2d0514d78208c46fb",
     "grade": false,
     "grade_id": "taskheader_1_4",
     "locked": true,
     "schema_version": 3,
     "solution": false,
     "task": false
    }
   },
   "source": [
    "## Task 1.4\n",
    "\n",
    "**[5 Point(s)]**"
   ]
  },
  {
   "cell_type": "markdown",
   "id": "99fdda0a",
   "metadata": {
    "deletable": false,
    "editable": false,
    "nbgrader": {
     "cell_type": "markdown",
     "checksum": "1733407bbe1f9d2cee1eb0cd222ed9c0",
     "grade": false,
     "grade_id": "Astar_theory_D_Description0",
     "locked": true,
     "schema_version": 3,
     "solution": false,
     "task": false
    }
   },
   "source": [
    "### Optimality [5 Points]\n",
    "\n",
    "What does it mean when we say an algorithm is *optimal*? What are the criteria that have to be met in order for A* to be *optimal*? Provide an argument or proof on why this is required."
   ]
  },
  {
   "cell_type": "markdown",
   "id": "f432cb6e",
   "metadata": {
    "deletable": false,
    "nbgrader": {
     "cell_type": "markdown",
     "checksum": "f3855f33e1149fd2b273da9c121ae74c",
     "grade": true,
     "grade_id": "Astar_theory_D",
     "locked": false,
     "points": 5,
     "schema_version": 3,
     "solution": true,
     "task": false
    }
   },
   "source": [
    "An algorithm is optimal when it finds the best solution according to a specific criterion among all possible solutions. The criterion could be minimizing or maximizing a certain value (cost, time, distance). \n",
    "\n",
    "A* can be optimal under certain conditions, particularly when it satisfies the following criteria:\n",
    "- Admissible Heuristic : heuristic guides A* to explore the most promising path first, ensuring that it reaches the goal along the shortest path. If the heuristic function is admissible it never overestimates the actual cost to reach the goal from any given node.\n",
    "- Consistent Heuristic : if the heuristic function is also consistent then A* is not only optimal but also more efficient, a consistent heuristic ensures that A* expands nodes in the optimal order and avoids re-evaluating nodes unnecessarily, leading to improved efficiency."
   ]
  },
  {
   "cell_type": "markdown",
   "id": "4c9c06d2",
   "metadata": {
    "deletable": false,
    "editable": false,
    "nbgrader": {
     "cell_type": "markdown",
     "checksum": "4dc7dd3e3be67af48424a153df751860",
     "grade": false,
     "grade_id": "taskheader_1_5",
     "locked": true,
     "schema_version": 3,
     "solution": false,
     "task": false
    }
   },
   "source": [
    "## Task 1.5\n",
    "\n",
    "**[5 Point(s)]**"
   ]
  },
  {
   "cell_type": "markdown",
   "id": "814ff0b4",
   "metadata": {
    "deletable": false,
    "editable": false,
    "nbgrader": {
     "cell_type": "markdown",
     "checksum": "8c2103920b133fa1f8218d1b27dff2eb",
     "grade": false,
     "grade_id": "Astar_theory_E_Description0",
     "locked": true,
     "schema_version": 3,
     "solution": false,
     "task": false
    }
   },
   "source": [
    "### Time Complexity [5 Points]\n",
    "\n",
    "What is the time complexity of A*? Explain, or derive mathematically! Just writing $O(...)$ is not sufficient!"
   ]
  },
  {
   "cell_type": "markdown",
   "id": "b5aed417",
   "metadata": {
    "deletable": false,
    "nbgrader": {
     "cell_type": "markdown",
     "checksum": "978f15cbaba97b47d935fc381532ae64",
     "grade": true,
     "grade_id": "Astar_theory_E",
     "locked": false,
     "points": 5,
     "schema_version": 3,
     "solution": true,
     "task": false
    }
   },
   "source": [
    "time complexity of A* can vary depending on several factors (size of search space, the quality of the heuristic function, and the implementation details), in the worst-case scenario, the time complexity of A* is exponential.\n",
    "\n",
    "In the worst case, where the search space is very large and the heuristic function is not effective at guiding the search, A* may need to explore a large portion of the search space before finding the goal. In this case, the time complexity can be exponential in terms of both the number of nodes expanded and the depth of the search tree.\n",
    "\n",
    "Explaination : \n",
    "In the worst case, the time complexity of A* can be analyzed by considering the number of nodes expanded during the search.\n",
    "- b: The average branching factor of the search tree (i.e., the average number of successor nodes for each node).\n",
    "- d: The depth of the optimal solution.\n",
    "- h*(n): The actual cost from node n to the goal node.\n",
    "- h(n): The heuristic estimate of the cost from node n to the goal node.\n",
    "A*(n) expands nodes in the order of increasing f(n)=g(n)+h(n), where:\n",
    "    g(n) is the cost from start node to node n.\n",
    "    h(n) the heuristic estimate of the cost from node n to the goal node.\n",
    "\n",
    "    - in the worst case, A* may need to expand all node up to depth (d) to find the optimal solution. Thus,the worst case time complexity can be approximated by \"considering the number of nodes expanded up to depth d\" \n",
    "    - if the heurstic function is admissible, then h(n) <= h*(n) for all nodes n. Therefore, A* expanding nodes in non-decreasing order of the actual cost g(n)+h*(n)\n",
    "    - let's assume C* as the cost of the optimal solution, since h(n)  is an underestimate of the true cost, g(n)+h*(n) is an overestimate of C* for any node n.\n",
    "    - In the worst case, A* expands nodes until it reaches the goal node, which has a cost C* . since h(n) is an underestimate, A* may explore nodes with f(n) > C* but it doesn't expand nodes with f(n) > C* because C* is is the minimum possible cost to reach the goal. Therefore, the number of nodes expanded by A* in the worst case is bounded by the number of nodes with f(n) <= C* up to depth d.\n",
    "    - The numbers of nodes at depth d in a tree with an average branching factor of b is O(b^d), the worst case time complexity of A* is O(b^d)."
   ]
  },
  {
   "cell_type": "markdown",
   "id": "4e0b9f47",
   "metadata": {
    "deletable": false,
    "editable": false,
    "nbgrader": {
     "cell_type": "markdown",
     "checksum": "99bac3980c06bfe689cc8fab3452cdb2",
     "grade": false,
     "grade_id": "taskheader_1_6",
     "locked": true,
     "schema_version": 3,
     "solution": false,
     "task": false
    }
   },
   "source": [
    "## Task 1.6\n",
    "\n",
    "**[2 Point(s)]**"
   ]
  },
  {
   "cell_type": "markdown",
   "id": "55946691",
   "metadata": {
    "deletable": false,
    "editable": false,
    "nbgrader": {
     "cell_type": "markdown",
     "checksum": "5577fb881b25fef18afefb6a6a41b4e4",
     "grade": false,
     "grade_id": "Astar_theory_F_Description0",
     "locked": true,
     "schema_version": 3,
     "solution": false,
     "task": false
    }
   },
   "source": [
    "### Consistency of a Heuristic [2 Points]\n",
    "\n",
    "How is a consistent heuristic defined? Why is it a critical property in the context of the A* search algorithm?"
   ]
  },
  {
   "cell_type": "markdown",
   "id": "b18d8245",
   "metadata": {
    "deletable": false,
    "nbgrader": {
     "cell_type": "markdown",
     "checksum": "592f4f27e8ec491342823791996cd045",
     "grade": true,
     "grade_id": "Astar_theory_F",
     "locked": false,
     "points": 2,
     "schema_version": 3,
     "solution": true,
     "task": false
    }
   },
   "source": [
    "consistent heuristic is when the algorithm satisfes the condition of consistency which is defined as follow: A heuristic function h(n) is consistent if, for every node n and every successor n' of n generated by any action a, he estimated cost of reaching the goal from n is no greater than the cost of getting to n' plus  the estimated cost of reaching the goal from n' under the heuristic function.\n",
    "\n",
    "Consistnecy is critical for A* because it ensures the optimality of the solution found by the algorithm."
   ]
  },
  {
   "cell_type": "markdown",
   "id": "10035098",
   "metadata": {
    "deletable": false,
    "editable": false,
    "nbgrader": {
     "cell_type": "markdown",
     "checksum": "346986097e5dec859b0f5d725051d93c",
     "grade": false,
     "grade_id": "taskheader_2",
     "locked": true,
     "schema_version": 3,
     "solution": false,
     "task": false
    }
   },
   "source": [
    "# Task 2\n",
    "\n",
    "**[50 Point(s)]**"
   ]
  },
  {
   "cell_type": "markdown",
   "id": "3b6e63e8",
   "metadata": {
    "deletable": false,
    "editable": false,
    "nbgrader": {
     "cell_type": "markdown",
     "checksum": "2c0867a9e21d6606025ce6483e400f60",
     "grade": false,
     "grade_id": "Astar_implementation_AAstar_implementation_BAstar_implementation_CAstar_implementation_DAstar_implementation_EAstar_implementation_F_Header",
     "locked": true,
     "schema_version": 3,
     "solution": false,
     "task": false
    }
   },
   "source": [
    "# Applying Informed Search [60 Points]\n",
    "\n",
    "Informed methods help us gain information about solving a problem through its current state space. This keeps a program from blundering around blindly guessing. Informed search strategies make use of information about the path of moves we took to get where we are currently by using an *evaluation function*. This evaluation function often makes use of a *heuristic function*, that provides an estimate of the distance of a node to the goal in a relaxed version of the problem.\n",
    "\n",
    "# A Real World Problem\n",
    "\n",
    "Consider a robot that works in a warehouse. The robot can carry packages on top of itself on a set of omnidirectional conveyors. It can carry a maximum of 8 packages in a 3x3 grid, with one spot left open. There is a slot from which the robot can dispense packages onto shelves. The robot must deposit the packages in order, so they must be lined up in a certain order near the slot. However, workers place the packages onto the robot randomly. Therefore, the robot must first sort the packages before depositing them. It can use the free space and the conveyors to shift the packages horizontally and vertically. \n",
    "\n",
    "## This becomes what is known as the 8 puzzle."
   ]
  },
  {
   "cell_type": "markdown",
   "id": "ad7ea5b6",
   "metadata": {
    "deletable": false,
    "editable": false,
    "nbgrader": {
     "cell_type": "markdown",
     "checksum": "77ca0a2f6f60fe6d99a7a11411ef627f",
     "grade": false,
     "grade_id": "taskheader_2_1",
     "locked": true,
     "schema_version": 3,
     "solution": false,
     "task": false
    }
   },
   "source": [
    "## Task 2.1\n",
    "\n",
    "**[15 Point(s)]**"
   ]
  },
  {
   "cell_type": "markdown",
   "id": "6b47d451",
   "metadata": {
    "deletable": false,
    "editable": false,
    "nbgrader": {
     "cell_type": "markdown",
     "checksum": "d37bfa9407da5d7adae0b99d99be41d1",
     "grade": false,
     "grade_id": "Astar_implementation_A_Description0",
     "locked": true,
     "schema_version": 3,
     "solution": false,
     "task": false
    }
   },
   "source": [
    "## The 8 Puzzle [10 Points]\n",
    "\n",
    "An 8 puzzle is a simple game consisting of a 3 x 3 grid (containing 9 squares). One of the squares is empty.\n",
    "The object is to move the squares around into different positions and having the numbers displayed in the \"goal state\". The squares can obviously only move along the horizontal and vertical axis and only into the **empty tile**. Therefore the problem can also be viewed as the empty tile \"trading\" positions with one of its neighbouring tiles.\n",
    "\n",
    "The image below depicts the goal state of an \"3 x 3\" 8 puzzle.\n",
    "<img src=\"Informed_Search_files/img/8_puzzle.png\" alt=\"8 Puzzle\" width=\"200\"/>\n",
    "\n",
    "The complexity of possible moves toward the final solution in a game like this is large. With an uninformed search strategy, finding a solution to this problem can take a lot of time. The problem is now about finding the shortest path to the goal state within reasonable time, which we will do in this assignment using A* and Greedy Search.\n",
    "\n",
    "### Task\n",
    "- We will implement the 8 puzzle game as the class `Puzzle`\n",
    "- Define methods for moving a tile around in the puzzle\n",
    "- Define a mehod for generating all possible moves from one particular configuration.\n",
    "- You are already provided with a class and function templates below. Please complete the implementation."
   ]
  },
  {
   "cell_type": "code",
   "execution_count": null,
   "id": "93d16706",
   "metadata": {
    "ExecuteTime": {
     "end_time": "2024-04-30T11:18:33.674696Z",
     "start_time": "2024-04-30T11:18:33.600136Z"
    },
    "deletable": false,
    "nbgrader": {
     "cell_type": "code",
     "checksum": "67612fd549c8de012debd82e3062b06c",
     "grade": false,
     "grade_id": "Astar_implementation_A",
     "locked": false,
     "schema_version": 3,
     "solution": true,
     "task": false
    }
   },
   "outputs": [],
   "source": [
    "from typing import List, Tuple\n",
    "from utils import print_puzzle\n",
    "\n",
    "class Puzzle:\n",
    "\n",
    "    def __init__(self, init_state: List[int], puzzle_type: int = 8):\n",
    "        \"\"\"\n",
    "        Initialize a new 8-puzzle board\n",
    "        :param init_state: Initial configuration of the board\n",
    "        \"\"\"\n",
    "        self.init_state = init_state\n",
    "        self.goal_state = [i for i in range(1, 9)] + [0]\n",
    "        # YOUR CODE HERE\n",
    "        raise NotImplementedError()\n",
    "\n",
    "    def goal_test(self, state: List[int]):\n",
    "        \"\"\"Test if goal state is reached\n",
    "        :param state: board configuration to check\n",
    "        :return: true if the passed configuration is equal to goal configuration\n",
    "        \"\"\"\n",
    "        # YOUR CODE HERE\n",
    "        raise NotImplementedError()\n",
    "\n",
    "    def is_explored(self, state: List[int]):\n",
    "        \"\"\"Check if a particular board configuration has already been explored\n",
    "        :param state: board configuration to check\n",
    "        :return: true if a particular configuration has already been explored\n",
    "        \"\"\"\n",
    "        # YOUR CODE HERE\n",
    "        raise NotImplementedError()\n",
    "    \n",
    "    def reset(self):\n",
    "        # YOUR CODE HERE\n",
    "        raise NotImplementedError()\n",
    "\n",
    "\n",
    "def move_left(position: int) -> int:\n",
    "    \"\"\"Move one position left in 8 puzzle if possible\n",
    "    :param position: current position of the 0 tile\n",
    "    :return: new position of the 0 tile after moving to the left\n",
    "    \"\"\"\n",
    "    # YOUR CODE HERE\n",
    "    raise NotImplementedError()\n",
    "\n",
    "\n",
    "def move_right(position: int) -> int:\n",
    "    \"\"\"Move one position right in 8 puzzle if possible\n",
    "    :param position: current position of the 0 tile\n",
    "    :return: new position of the 0 tile after moving to the right\n",
    "    \"\"\"\n",
    "    # YOUR CODE HERE\n",
    "    raise NotImplementedError()\n",
    "\n",
    "\n",
    "def move_up(position: int) -> int:\n",
    "    \"\"\"Move one position up in 8 puzzle if possible\n",
    "    :param position: current position of the 0 tile\n",
    "    :return: new position of the 0 tile after moving upwards\n",
    "    \"\"\"\n",
    "    # YOUR CODE HERE\n",
    "    raise NotImplementedError()\n",
    "\n",
    "\n",
    "def move_down(position: int):\n",
    "    \"\"\"Move one position down in 8 puzzle if possible\n",
    "    :param position: current position of the 0 tile.\n",
    "    :return: new position of the 0 tile after moving downwards\n",
    "    \"\"\"\n",
    "    # YOUR CODE HERE\n",
    "    raise NotImplementedError()\n",
    "\n",
    "\n",
    "def get_possible_moves(state: List[int]) -> List[List[int]]:\n",
    "    \"\"\"Check whether a move is possible in left, right, up, down direction and store it.\n",
    "    :param state: current configuration of the puzzle as one dimensional list\n",
    "    :return: list containing the new configurations after applying all possible moves\n",
    "    \"\"\"\n",
    "    # YOUR CODE HERE\n",
    "    raise NotImplementedError()\n",
    "\n",
    "# YOUR CODE HERE\n",
    "raise NotImplementedError()"
   ]
  },
  {
   "cell_type": "code",
   "execution_count": null,
   "id": "89b12a4e",
   "metadata": {
    "deletable": false,
    "editable": false,
    "nbgrader": {
     "cell_type": "code",
     "checksum": "146bdd3a32dce5c34da39c237ef1cf7a",
     "grade": true,
     "grade_id": "test_Astar_implementation_A0",
     "locked": true,
     "points": 15,
     "schema_version": 3,
     "solution": false,
     "task": false
    }
   },
   "outputs": [],
   "source": []
  },
  {
   "cell_type": "markdown",
   "id": "8f1fd967",
   "metadata": {
    "deletable": false,
    "editable": false,
    "nbgrader": {
     "cell_type": "markdown",
     "checksum": "a183b8cba1605e5808b21cbde2cb71eb",
     "grade": false,
     "grade_id": "taskheader_2_2",
     "locked": true,
     "schema_version": 3,
     "solution": false,
     "task": false
    }
   },
   "source": [
    "## Task 2.2\n",
    "\n",
    "**[5 Point(s)]**"
   ]
  },
  {
   "cell_type": "markdown",
   "id": "1a46e4c9",
   "metadata": {
    "deletable": false,
    "editable": false,
    "nbgrader": {
     "cell_type": "markdown",
     "checksum": "9a0e041dff2d676e324457304d834f5e",
     "grade": false,
     "grade_id": "Astar_implementation_B_Description0",
     "locked": true,
     "schema_version": 3,
     "solution": false,
     "task": false
    }
   },
   "source": [
    "## Heuristics [5 Points]\n",
    "\n",
    "In this part, you are tasked to implement two different admissible heuristics for the 8 puzzle: The [Hamming distance](https://en.wikipedia.org/wiki/Hamming_distance) and the [Manhattan Distance](https://en.wikipedia.org/wiki/Taxicab_geometry).\n",
    "\n",
    "**Hamming Distance**  \n",
    "Let $A$ be an alphabet of symbols and $C$ a subset of $A^n$, the set of worlds of length $n$ over $A$. Let $u = (u_1, ..., u_n)$ and $v = (v_1, ...,v_n)$. The Hamming distance is deinfed as the number of places in which $u$ and $v$ differ. That is:\n",
    "$$h(n) = \\{i:u_i \\neq v_i,i=1,...,n\\}$$\n",
    "See also: [Encyclopedia of Math](https://encyclopediaofmath.org/wiki/Hamming_distance)\n",
    "\n",
    "It is clear that this heuristic is admissible since the total number of moves to order the tiles correctly is at least the number of misplaced tiles (each tile not in place must be moved at least once). The cost (number of moves) to the goal (an ordered puzzle) is at least the Hamming distance of the puzzle.\n",
    "\n",
    "**Manhattan Distance**  \n",
    "The Manhattan distance between two points $x = (x_1, ..., x_n)$ and $y = (y_1, ..., y_n)$ in $n$-dimensional space is the sum of the distances in each dimension.\n",
    "$$d(x,y) = \\sum^n_{i=1} \\vert x_i - y_i \\vert$$\n",
    "See also: [Encyclopedia of Machine Learning](https://link.springer.com/referenceworkentry/10.1007%2F978-0-387-30164-8_506)\n",
    "\n",
    "The Manhattan distance is an admissible heuristic because every tile will have to be moved at least the number of spots in between itself and its correct position.\n",
    "\n",
    "### Task\n",
    "- You are provided with the function definitions for the two heuristics below\n",
    "- Please implement them according to the mathematical definition given above"
   ]
  },
  {
   "cell_type": "code",
   "execution_count": null,
   "id": "4438f418",
   "metadata": {
    "deletable": false,
    "nbgrader": {
     "cell_type": "code",
     "checksum": "1b9f81a409b208d3ac3148c467319dbc",
     "grade": false,
     "grade_id": "Astar_implementation_B",
     "locked": false,
     "schema_version": 3,
     "solution": true,
     "task": false
    }
   },
   "outputs": [],
   "source": [
    "from typing import Tuple, List\n",
    "\n",
    "def hamming_distance(state: List[int]) -> int:\n",
    "    \"\"\"Calculate the Hamming distance for a particular configuration\n",
    "    :param state: current configuration of the puzzle\n",
    "    :return: the number of misplaced tiles in the given configuration\n",
    "    \"\"\"\n",
    "    # YOUR CODE HERE\n",
    "    raise NotImplementedError()\n",
    "\n",
    "\n",
    "def manhattan_distance(state: List[int]) -> int:\n",
    "    \"\"\"Function to calculate the manhattan distance for a\n",
    "    particular configuration\n",
    "    :param state: current configuration of the puzzle\n",
    "    :return: the accumulated manhattan distance between each tile and its goal position in the given configuration\n",
    "    \"\"\"\n",
    "    # YOUR CODE HERE\n",
    "    raise NotImplementedError()"
   ]
  },
  {
   "cell_type": "code",
   "execution_count": null,
   "id": "5569f19e",
   "metadata": {},
   "outputs": [],
   "source": [
    "# Run this test cell in order to get an indication of whether your implementation is working as expected.\n",
    "assert hamming_distance([0,1,2,3,4,5,8,6,7]) == 9\n",
    "assert manhattan_distance([1,2,3,4,0,5,6,8,7]) == 8"
   ]
  },
  {
   "cell_type": "code",
   "execution_count": null,
   "id": "c0873273",
   "metadata": {
    "deletable": false,
    "editable": false,
    "nbgrader": {
     "cell_type": "code",
     "checksum": "a98920b24f58e0bb11dae6908eb0bdc5",
     "grade": true,
     "grade_id": "test_Astar_implementation_B0",
     "locked": true,
     "points": 5,
     "schema_version": 3,
     "solution": false,
     "task": false
    }
   },
   "outputs": [],
   "source": []
  },
  {
   "cell_type": "markdown",
   "id": "0b7d87c1",
   "metadata": {
    "deletable": false,
    "editable": false,
    "nbgrader": {
     "cell_type": "markdown",
     "checksum": "414bc309c896d1afeba9ab317e3fe9ee",
     "grade": false,
     "grade_id": "taskheader_2_3",
     "locked": true,
     "schema_version": 3,
     "solution": false,
     "task": false
    }
   },
   "source": [
    "## Task 2.3\n",
    "\n",
    "**[10 Point(s)]**"
   ]
  },
  {
   "cell_type": "markdown",
   "id": "984b7c78",
   "metadata": {
    "deletable": false,
    "editable": false,
    "nbgrader": {
     "cell_type": "markdown",
     "checksum": "1d8fd8f91f7ad39d81f3bef2b8c446d1",
     "grade": false,
     "grade_id": "Astar_implementation_C_Description0",
     "locked": true,
     "schema_version": 3,
     "solution": false,
     "task": false
    }
   },
   "source": [
    "## A* Search Algorithm [10 Points]\n",
    "\n",
    "Now you will implement the A* search algorithm. To do that, you can consider the pseudocode from the lecture\n",
    "\n",
    "```\n",
    "function A*(problem) returns a solution, or failure\n",
    "    closed ← an empty set\n",
    "    fringe ← a list containing Make-Node(Initial-State[problem])\n",
    "    loop do\n",
    "        if fringe is empty then return failure\n",
    "        node ← Remove-Front(fringe)\n",
    "        if Goal-Test[problem] applied to State(node) succeeds return node\n",
    "            insert node into closed\n",
    "        for each node n ∈ Expand(node, problem) do\n",
    "            if there is a node m ∈ closed ∪ fringe such that\n",
    "                STATE(m) = STATE(n) and f(m) ≤ f(n)\n",
    "            then do nothing\n",
    "            else\n",
    "                insert n into fringe after the last node m such that f(m) ≤ f(n)\n",
    "end\n",
    "```\n",
    "\n",
    "### Task\n",
    "- You are provided with the function definition for the A* function\n",
    "- Please implement A* according to the algorithm design discussed in the lectures\n",
    "\n",
    "In order to get an estimation on whether your solution work as expected, there is a public test available in the test cell. Make sure that all dependent cells are executed first, otherwise some functions or variables might not exist and an error will occur."
   ]
  },
  {
   "cell_type": "code",
   "execution_count": null,
   "id": "2c1e9296",
   "metadata": {
    "deletable": false,
    "nbgrader": {
     "cell_type": "code",
     "checksum": "744cf944a25f471e42539e6030a37c63",
     "grade": false,
     "grade_id": "Astar_implementation_C",
     "locked": false,
     "schema_version": 3,
     "solution": true,
     "task": false
    }
   },
   "outputs": [],
   "source": [
    "from typing import Callable, List, Tuple\n",
    "\n",
    "def astar_search(board: Puzzle, heuristic: Callable) -> Tuple[List[int], int]:\n",
    "    \"\"\"\n",
    "    :param board: the 8-puzzle to solve\n",
    "    :param heuristic: the heuristic function to use\n",
    "    :return: an ordered list with the solution path and the number of total nodes expanded\n",
    "    \"\"\"\n",
    "    # YOUR CODE HERE\n",
    "    raise NotImplementedError()"
   ]
  },
  {
   "cell_type": "code",
   "execution_count": null,
   "id": "d6f0b1a0",
   "metadata": {},
   "outputs": [],
   "source": [
    "# Run this test cell in order to get an INDICATION of whether your implementation is working as expected.\n",
    "import time\n",
    "t0 = time.time()\n",
    "p = Puzzle([0,1,2,3,4,5,8,6,7])\n",
    "path, expanded_nodes = astar_search(p, manhattan_distance)\n",
    "t1 = time.time()\n",
    "assert len(path) == 23\n",
    "# The execution time is limited to 10min, so please keep this in mind when implementing your solution!\n",
    "assert t1-t0 <= 600"
   ]
  },
  {
   "cell_type": "code",
   "execution_count": null,
   "id": "8284d888",
   "metadata": {
    "deletable": false,
    "editable": false,
    "nbgrader": {
     "cell_type": "code",
     "checksum": "dd677aec6712c42e71ef5b08b8ff3c06",
     "grade": true,
     "grade_id": "test_Astar_implementation_C0",
     "locked": true,
     "points": 10,
     "schema_version": 3,
     "solution": false,
     "task": false
    }
   },
   "outputs": [],
   "source": []
  },
  {
   "cell_type": "markdown",
   "id": "cd34d03a",
   "metadata": {
    "deletable": false,
    "editable": false,
    "nbgrader": {
     "cell_type": "markdown",
     "checksum": "18a653d8b1db881522197cab52b95c2b",
     "grade": false,
     "grade_id": "taskheader_2_4",
     "locked": true,
     "schema_version": 3,
     "solution": false,
     "task": false
    }
   },
   "source": [
    "## Task 2.4\n",
    "\n",
    "**[10 Point(s)]**"
   ]
  },
  {
   "cell_type": "markdown",
   "id": "960336f2",
   "metadata": {
    "deletable": false,
    "editable": false,
    "nbgrader": {
     "cell_type": "markdown",
     "checksum": "0f6bf8772efccb8ea9b6b90e1ea8f2a8",
     "grade": false,
     "grade_id": "Astar_implementation_D_Description0",
     "locked": true,
     "schema_version": 3,
     "solution": false,
     "task": false
    }
   },
   "source": [
    "## Greedy Search [10 Points]\n",
    "\n",
    "Now we will implement a *greedy search algorithm*. Recall from the lecture, that the evaluation function $f(n)$ is defined as $f(n) = h(n)$, with $h(n)$ being the heuristic function.\n",
    "\n",
    "### Task\n",
    "- You are provided with the definition of the greedy search function\n",
    "- Implement a greedy search strategy by completing the function below\n",
    "\n",
    "In order to get an estimation on whether your solution work as expected, there is a public test available in the test cell. Make sure that all dependent cells are executed first, otherwise some functions or variables might not exist and an error will occur."
   ]
  },
  {
   "cell_type": "code",
   "execution_count": null,
   "id": "6b0b7675",
   "metadata": {
    "deletable": false,
    "nbgrader": {
     "cell_type": "code",
     "checksum": "d8e2fcb8c09e525d2242c01f9ae11d3e",
     "grade": false,
     "grade_id": "Astar_implementation_D",
     "locked": false,
     "schema_version": 3,
     "solution": true,
     "task": false
    }
   },
   "outputs": [],
   "source": [
    "from typing import List, Tuple, Callable\n",
    "\n",
    "def greedy_search(board: Puzzle, heuristic: Callable) -> Tuple[List[int], int]:\n",
    "    \"\"\"Implementation of the greedy search algorithm.\n",
    "    :param board: the 8-puzzle to solve\n",
    "    :param heuristic: the heuristic function to use\n",
    "    :return: an ordered list with the solution path and the number of total nodes expanded \n",
    "    \"\"\"\n",
    "    # YOUR CODE HERE\n",
    "    raise NotImplementedError()\n",
    "\n",
    "# YOUR CODE HERE\n",
    "raise NotImplementedError()"
   ]
  },
  {
   "cell_type": "code",
   "execution_count": null,
   "id": "7c445260",
   "metadata": {},
   "outputs": [],
   "source": [
    "# Run this test cell in order to get an INDICATION of whether your implementation is working as expected.\n",
    "import time\n",
    "t0 = time.time()\n",
    "p = Puzzle([0,1,2,3,4,5,8,6,7])\n",
    "path, expanded_nodes = greedy_search(p, manhattan_distance)\n",
    "t1 = time.time()\n",
    "# The execution time is limited to 10min, so please keep this in mind when implementing your solution!\n",
    "assert t1-t0 <= 600"
   ]
  },
  {
   "cell_type": "code",
   "execution_count": null,
   "id": "7b4fda7a",
   "metadata": {
    "deletable": false,
    "editable": false,
    "nbgrader": {
     "cell_type": "code",
     "checksum": "2e2ee6ff827f1908d2f3beeb22638bbd",
     "grade": true,
     "grade_id": "test_Astar_implementation_D0",
     "locked": true,
     "points": 10,
     "schema_version": 3,
     "solution": false,
     "task": false
    }
   },
   "outputs": [],
   "source": []
  },
  {
   "cell_type": "markdown",
   "id": "af2ec1d5",
   "metadata": {
    "deletable": false,
    "editable": false,
    "nbgrader": {
     "cell_type": "markdown",
     "checksum": "2bd81a3f93c50d79a103e109619acee7",
     "grade": false,
     "grade_id": "taskheader_2_5",
     "locked": true,
     "schema_version": 3,
     "solution": false,
     "task": false
    }
   },
   "source": [
    "## Task 2.5\n",
    "\n",
    "**[5 Point(s)]**"
   ]
  },
  {
   "cell_type": "markdown",
   "id": "07d5c4d4",
   "metadata": {
    "deletable": false,
    "editable": false,
    "nbgrader": {
     "cell_type": "markdown",
     "checksum": "88a010cc02b6d1f8a3fe6d7346852fdd",
     "grade": false,
     "grade_id": "Astar_implementation_E_Description0",
     "locked": true,
     "schema_version": 3,
     "solution": false,
     "task": false
    }
   },
   "source": [
    "## Evaluation A) [5 Points]\n",
    "\n",
    "Now we want to compare the performance of the different solvers. For that, run every combination of `algorithm` x `heuristic` with the puzzle configurations\n",
    "1. `[0, 1, 2, 3, 4, 5, 8, 6, 7]`\n",
    "1. `[8, 7, 6, 5, 1, 4, 2, 0, 3]`\n",
    "1. `[1, 5, 7, 3, 6, 2, 0, 4, 8]`\n",
    "\n",
    "for each run, record the `expanded nodes`, `execution time` and the `path cost`.\n",
    "```\n",
    "[\n",
    "  {\n",
    "    'puzzle': 1,\n",
    "    'algorithm': 'astar',\n",
    "    'heuristic': 'manhattan',\n",
    "    'expanded nodes': 0,\n",
    "    'execution time': 0.0,\n",
    "    'path cost': 0\n",
    "  }\n",
    "]\n",
    "```"
   ]
  },
  {
   "cell_type": "code",
   "execution_count": null,
   "id": "25c5addc",
   "metadata": {
    "deletable": false,
    "nbgrader": {
     "cell_type": "code",
     "checksum": "f99fa7836b458cc1c7d90d10cb27b9e9",
     "grade": false,
     "grade_id": "Astar_implementation_E",
     "locked": false,
     "schema_version": 3,
     "solution": true,
     "task": false
    }
   },
   "outputs": [],
   "source": [
    "evaluation_results = []\n",
    "\n",
    "# YOUR CODE HERE\n",
    "raise NotImplementedError()"
   ]
  },
  {
   "cell_type": "code",
   "execution_count": null,
   "id": "25a2418e",
   "metadata": {
    "deletable": false,
    "editable": false,
    "nbgrader": {
     "cell_type": "code",
     "checksum": "c71b7e21d9e31d22446356f0d404ee79",
     "grade": true,
     "grade_id": "test_Astar_implementation_E0",
     "locked": true,
     "points": 5,
     "schema_version": 3,
     "solution": false,
     "task": false
    }
   },
   "outputs": [],
   "source": []
  },
  {
   "cell_type": "markdown",
   "id": "00bc79c8",
   "metadata": {
    "deletable": false,
    "editable": false,
    "nbgrader": {
     "cell_type": "markdown",
     "checksum": "2e4ee0385c78dd9fc02b588e77d68b62",
     "grade": false,
     "grade_id": "taskheader_2_6",
     "locked": true,
     "schema_version": 3,
     "solution": false,
     "task": false
    }
   },
   "source": [
    "## Task 2.6\n",
    "\n",
    "**[5 Point(s)]**"
   ]
  },
  {
   "cell_type": "markdown",
   "id": "5792ee12",
   "metadata": {
    "deletable": false,
    "editable": false,
    "nbgrader": {
     "cell_type": "markdown",
     "checksum": "663537de8e7fff584954855498967f2c",
     "grade": false,
     "grade_id": "Astar_implementation_F_Description0",
     "locked": true,
     "schema_version": 3,
     "solution": false,
     "task": false
    }
   },
   "source": [
    "## Evaluation B) [5 Points]\n",
    "Lastly, we want to get an estimate on how well the solvers are performing in general. For that, we first have to define a measue of *difficulty* of an initial configuration and whether ther exists a solution at all. \n",
    "\n",
    "### Inversions and Solvability of the 8 and 15 Puzzle\n",
    "The difficulty of an 8 puzzle configuration can be acessed by counting the number of inversions it contains with respect to the goal configuration. If the square containing the number $i$ appears \"before\" (reading the squares in the box from left to right and top to bottom) $n$ numbers that are less than $i$, then call it an inversion of order $n$, and denote it $n_i$. Then define\n",
    "$$N=\\sum_{i=1}^8n_i = \\sum_{i=2}^8n_i$$\n",
    "where the sum only needs to run from 2 to 8, since there are no numbers less than 1 (so $n_1$ must equal 0). Stated more simply, $N = i(p)$ is the number of *permuted inversions* in the list of numbers.\n",
    "\n",
    "For the **15 puzzle** there actually exists a proof, which in its principles also holds for the 8 puzzle in modified form:  \n",
    "We additionaly define $e$ to be the row number of the empty square. Then if $N + e$ is even, then the configuration is solvable, otherwise it is not. In other words, if the permutation symbol $(-1)^{i(p)}$ of the list is $+1$, the configuration is solvable, whereas if the signature is -1, it is not. This can be formally proved using *alternating groups*.\n",
    "\n",
    "For more details, check out this article by [MathWorld](https://mathworld.wolfram.com/15Puzzle.html)\n",
    "\n",
    "> While odd permutations of the puzzle are impossible to solve (Johnson 1879), all even permutations are solvable (Story 1879).\n",
    "\n",
    "With those definitions it now becomes possible to evaluate the general performance of the solvers with respect to the complexity of the initial configuration.\n",
    "\n",
    "1. Compelte the `inversion` function below, such that it calculates the total number of inversions in a puzzle configuration.\n",
    "1. Use the `inversion` function in order to complete the `is_solvable` function, which should return either `True` or `False` depending on whether a configuration is solvable or not.\n",
    "1. Generate 100 random **solvable** puzzle configurations\n",
    "1. Solve each configuration with every combination of `algorithm` and `heuristic` and again record the `expanded nodes`, `execution time` and the `path cost`, as well as the `complexity`, which is the total inversion count of the initial configuration.\n",
    "1. Plot the metrics over the `complexity` of the puzzle's initial configuration"
   ]
  },
  {
   "cell_type": "code",
   "execution_count": null,
   "id": "4335fdd3",
   "metadata": {
    "deletable": false,
    "nbgrader": {
     "cell_type": "code",
     "checksum": "b56b08d9a3f719dd8414a240a421ddac",
     "grade": false,
     "grade_id": "Astar_implementation_F",
     "locked": false,
     "schema_version": 3,
     "solution": true,
     "task": false
    }
   },
   "outputs": [],
   "source": [
    "import matplotlib.pyplot\n",
    "\n",
    "def inversion(configuration: List[int]) -> int:\n",
    "    \"\"\"\n",
    "    Finds all inversions in a puzzle configuration and returns their total number\n",
    "    :param configuration: the configuration of the 8 puzzle to count its inversions\n",
    "    :returns: number of inversions in the puzzle configuration\n",
    "    \"\"\"\n",
    "    # YOUR CODE HERE\n",
    "    raise NotImplementedError()\n",
    "\n",
    "\n",
    "def is_solvable(configuration: List[int]) -> bool:\n",
    "    \"\"\"\n",
    "    Checks whether a given puzzle configuration is solvable or not\n",
    "    :param configuration: the initial configuration of the puzzle to check for solvability\n",
    "    :returns: True if the configuration is solvable; False otherwise\n",
    "    \"\"\"\n",
    "    # YOUR CODE HERE\n",
    "    raise NotImplementedError()\n",
    "\n",
    "\n",
    "# YOUR CODE HERE\n",
    "raise NotImplementedError()"
   ]
  },
  {
   "cell_type": "markdown",
   "id": "d3ff7d86",
   "metadata": {},
   "source": [
    "### Test"
   ]
  },
  {
   "cell_type": "code",
   "execution_count": 29,
   "id": "ecfa9271",
   "metadata": {},
   "outputs": [],
   "source": [
    "from typing import List\n",
    "\n",
    "class Puzzle:\n",
    "\n",
    "    def __init__(self, init_state: List[int], puzzle_type: int = 8):\n",
    "        \"\"\"\n",
    "        Initialize a new 8-puzzle board\n",
    "        :param init_state: Initial configuration of the board\n",
    "        \"\"\"\n",
    "        self.init_state = init_state\n",
    "        self.goal_state = [i for i in range(1, 9)] + [0]\n",
    "        self.explored_states = set()\n",
    "\n",
    "    def goal_test(self, state: List[int]) -> bool:\n",
    "        \"\"\"Test if goal state is reached\n",
    "        :param state: board configuration to check\n",
    "        :return: True if the passed configuration is equal to goal configuration, False otherwise\n",
    "        \"\"\"\n",
    "        return state == self.goal_state\n",
    "\n",
    "    def is_explored(self, state: List[int]) -> bool:\n",
    "        \"\"\"Check if a particular board configuration has already been explored\n",
    "        :param state: board configuration to check\n",
    "        :return: True if a particular configuration has already been explored, False otherwise\n",
    "        \"\"\"\n",
    "        return tuple(state) in self.explored_states\n",
    "\n",
    "    def reset(self):\n",
    "        \"\"\"Reset the puzzle to its initial state\"\"\"\n",
    "        self.explored_states.clear()"
   ]
  },
  {
   "cell_type": "code",
   "execution_count": 30,
   "id": "5bf7d842",
   "metadata": {
    "deletable": false,
    "editable": false,
    "nbgrader": {
     "cell_type": "code",
     "checksum": "6e1fc859c3c10b5eec6888e0e89628a1",
     "grade": true,
     "grade_id": "test_Astar_implementation_F0",
     "locked": true,
     "points": 5,
     "schema_version": 3,
     "solution": false,
     "task": false
    }
   },
   "outputs": [],
   "source": [
    "\n",
    "def move_left(position: int) -> int:\n",
    "    \"\"\"Move one position left in 8 puzzle if possible\n",
    "    :param position: current position of the 0 tile\n",
    "    :return: new position of the 0 tile after moving to the left\n",
    "    \"\"\"\n",
    "    return position - 1 if position % 3 != 0 else -1\n",
    "\n",
    "def move_right(position: int) -> int:\n",
    "    \"\"\"Move one position right in 8 puzzle if possible\n",
    "    :param position: current position of the 0 tile\n",
    "    :return: new position of the 0 tile after moving to the right\n",
    "    \"\"\"\n",
    "    return position + 1 if position % 3 != 2 else -1\n",
    "\n",
    "def move_up(position: int) -> int:\n",
    "    \"\"\"Move one position up in 8 puzzle if possible\n",
    "    :param position: current position of the 0 tile\n",
    "    :return: new position of the 0 tile after moving upwards\n",
    "    \"\"\"\n",
    "    return position - 3 if position >= 3 else -1\n",
    "\n",
    "def move_down(position: int) -> int:\n",
    "    \"\"\"Move one position down in 8 puzzle if possible\n",
    "    :param position: current position of the 0 tile.\n",
    "    :return: new position of the 0 tile after moving downwards\n",
    "    \"\"\"\n",
    "    return position + 3 if position < 6 else -1\n",
    "\n",
    "def get_possible_moves(state: List[int]) -> List[List[int]]:\n",
    "    \"\"\"Check whether a move is possible in left, right, up, down direction and store it.\n",
    "    :param state: current configuration of the puzzle as one dimensional list\n",
    "    :return: list containing the new configurations after applying all possible moves\n",
    "    \"\"\"\n",
    "    possible_moves = []\n",
    "    position = state.index(0)  # Find the position of the empty tile (0)\n",
    "    if (new_position := move_left(position)) != -1:\n",
    "        new_state = state[:]\n",
    "        new_state[position], new_state[new_position] = new_state[new_position], new_state[position]\n",
    "        possible_moves.append(new_state)\n",
    "    if (new_position := move_right(position)) != -1:\n",
    "        new_state = state[:]\n",
    "        new_state[position], new_state[new_position] = new_state[new_position], new_state[position]\n",
    "        possible_moves.append(new_state)\n",
    "    if (new_position := move_up(position)) != -1:\n",
    "        new_state = state[:]\n",
    "        new_state[position], new_state[new_position] = new_state[new_position], new_state[position]\n",
    "        possible_moves.append(new_state)\n",
    "    if (new_position := move_down(position)) != -1:\n",
    "        new_state = state[:]\n",
    "        new_state[position], new_state[new_position] = new_state[new_position], new_state[position]\n",
    "        possible_moves.append(new_state)\n",
    "    return possible_moves"
   ]
  },
  {
   "cell_type": "code",
   "execution_count": 31,
   "id": "1ab28d30",
   "metadata": {},
   "outputs": [
    {
     "name": "stdout",
     "output_type": "stream",
     "text": [
      "[[1, 0, 2, 3, 4, 5, 6, 7, 8], [1, 2, 5, 3, 4, 0, 6, 7, 8]]\n"
     ]
    }
   ],
   "source": [
    "x = get_possible_moves([1,2,0,3,4,5,6,7,8])\n",
    "print(x)"
   ]
  },
  {
   "cell_type": "code",
   "execution_count": 32,
   "id": "8df2ac9e",
   "metadata": {},
   "outputs": [],
   "source": [
    "from typing import List\n",
    "\n",
    "def hamming_distance(state: List[int]) -> int:\n",
    "    \"\"\"Calculate the Hamming distance for a particular configuration\n",
    "    :param state: current configuration of the puzzle\n",
    "    :return: the number of misplaced tiles in the given configuration\n",
    "    \"\"\"\n",
    "    goal_state = [1, 2, 3, 4, 5, 6, 7, 8, 0]\n",
    "    distance = 0\n",
    "    for i in range(len(state)):\n",
    "        if state[i] != goal_state[i]:\n",
    "            distance += 1\n",
    "    return distance\n",
    "\n",
    "def manhattan_distance(state: List[int]) -> int:\n",
    "    \"\"\"Function to calculate the Manhattan distance for a\n",
    "    particular configuration\n",
    "    :param state: current configuration of the puzzle\n",
    "    :return: the accumulated Manhattan distance between each tile and its goal position in the given configuration\n",
    "    \"\"\"\n",
    "    goal_positions = {1: (0, 0), 2: (0, 1), 3: (0, 2),\n",
    "                      4: (1, 0), 5: (1, 1), 6: (1, 2),\n",
    "                      7: (2, 0), 8: (2, 1), 0: (2, 2)}  # Goal positions of each tile\n",
    "    distance = 0\n",
    "    for i in range(len(state)):\n",
    "        current_row, current_col = divmod(i, 3)  # Calculate row and column of current tile\n",
    "        goal_row, goal_col = goal_positions[state[i]]  # Get goal position of current tile\n",
    "        distance += abs(current_row - goal_row) + abs(current_col - goal_col)  # Manhattan distance calculation\n",
    "    return distance\n",
    "\n"
   ]
  },
  {
   "cell_type": "code",
   "execution_count": 33,
   "id": "4e58378d",
   "metadata": {},
   "outputs": [],
   "source": [
    "assert hamming_distance([0,1,2,3,4,5,8,6,7]) == 9\n",
    "assert manhattan_distance([1,2,3,4,0,5,6,8,7]) == 8"
   ]
  },
  {
   "cell_type": "code",
   "execution_count": 38,
   "id": "6fe72354",
   "metadata": {},
   "outputs": [],
   "source": [
    "from typing import Callable, List, Tuple\n",
    "from heapq import heappop, heappush\n",
    "\n",
    "class Node:\n",
    "    def __init__(self, state: List[int], g: int, f: int, parent=None):\n",
    "        self.state = state\n",
    "        self.g = g  # Cost to reach this state\n",
    "        self.f = f  # Estimated total cost (g + h)\n",
    "        self.parent = parent  # Parent node\n",
    "\n",
    "    def __lt__(self, other):\n",
    "        return self.f < other.f\n",
    "\n",
    "\n",
    "def astar_search(board: Puzzle, heuristic: Callable) -> Tuple[List[List[int]], int]:\n",
    "    \"\"\"\n",
    "    :param board: the 8-puzzle to solve\n",
    "    :param heuristic: the heuristic function to use\n",
    "    :return: an ordered list with the solution path and the number of total nodes expanded\n",
    "    \"\"\"\n",
    "    visited_states = set()\n",
    "    start_node = Node(board.init_state, 0, heuristic(board.init_state))\n",
    "    open_list = [(start_node.f, start_node)]\n",
    "\n",
    "    while open_list:\n",
    "        _, current_node = heappop(open_list)\n",
    "        current_state = current_node.state\n",
    "\n",
    "        if board.goal_test(current_state):\n",
    "            # Reconstruct the solution path\n",
    "            solution_path = [current_state]\n",
    "            while current_node.parent:\n",
    "                current_node = current_node.parent\n",
    "                solution_path.append(current_node.state)\n",
    "            solution_path.reverse()\n",
    "            return solution_path, len(visited_states)\n",
    "\n",
    "        visited_states.add(tuple(current_state))\n",
    "\n",
    "        for new_state in get_possible_moves(current_state):\n",
    "            if tuple(new_state) not in visited_states:\n",
    "                new_g = current_node.g + 1\n",
    "                new_f = new_g + heuristic(new_state)\n",
    "                new_node = Node(new_state, new_g, new_f)\n",
    "                new_node.parent = current_node\n",
    "                heappush(open_list, (new_node.f, new_node))\n",
    "\n",
    "    return [], len(visited_states)"
   ]
  },
  {
   "cell_type": "code",
   "execution_count": 39,
   "id": "115cf246",
   "metadata": {},
   "outputs": [],
   "source": [
    "p = Puzzle([0,1,2,3,4,5,8,6,7])\n",
    "path, expanded_nodes = astar_search(p, manhattan_distance)"
   ]
  },
  {
   "cell_type": "code",
   "execution_count": 41,
   "id": "aaa5b799",
   "metadata": {},
   "outputs": [
    {
     "name": "stdout",
     "output_type": "stream",
     "text": [
      "23\n",
      "1256\n"
     ]
    }
   ],
   "source": [
    "print(len(path))\n",
    "print(expanded_nodes)"
   ]
  }
 ],
 "metadata": {
  "kernelspec": {
   "display_name": "Python 3 (ipykernel)",
   "language": "python",
   "name": "python3"
  },
  "language_info": {
   "codemirror_mode": {
    "name": "ipython",
    "version": 3
   },
   "file_extension": ".py",
   "mimetype": "text/x-python",
   "name": "python",
   "nbconvert_exporter": "python",
   "pygments_lexer": "ipython3",
   "version": "3.9.6"
  }
 },
 "nbformat": 4,
 "nbformat_minor": 5
}
